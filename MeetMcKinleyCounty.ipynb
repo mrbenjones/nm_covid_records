{
 "cells": [
  {
   "cell_type": "code",
   "execution_count": 84,
   "metadata": {},
   "outputs": [],
   "source": [
    "import json\n",
    "import datetime\n",
    "import math\n",
    "import pandas as pd\n",
    "import numpy as np\n",
    "import matplotlib.pyplot as plt\n",
    "\n",
    "\n",
    "def collected(jsonFile):\n",
    "\n",
    "    entries = json.load(open(jsonFile))[\"data\"]\n",
    "    entries.sort(key=lambda w:w['date'])\n",
    "    r = [ {\n",
    "        \"dataDate\": t['date'],\n",
    "        \"cases\": t['cases'],\n",
    "        \"deaths\": t['deaths'],\n",
    "        \"tests\": t['tests'],\n",
    "        } for t in entries]\n",
    "    r.sort( key=lambda x:x['dataDate'])\n",
    "\n",
    "    windows = [\n",
    "        {'date': r[i]['dataDate'],\n",
    "         'cases': max(r[i]['cases']-r[i-7]['cases'],0),\n",
    "         'tests': max(r[i]['tests']-r[i-7]['tests'],0),\n",
    "         'ctests' : r[i]['tests'],\n",
    "         'deaths': r[i]['deaths'],\n",
    "         'slice': r[i-7:i]\n",
    "         }\n",
    "        for i in range(7,len(r))\n",
    "        ]\n",
    "\n",
    "    windows = [{\n",
    "        'date' : w['date'],\n",
    "        'cases' : w['cases'],\n",
    "        'tests' : w['tests'],\n",
    "        'deaths' : w['deaths'],\n",
    "        'ctests' : w['ctests'],\n",
    "        'pos' : w['cases']/w['tests'] if (w['tests']) else 0,\n",
    "        'slice': w['slice']\n",
    "        }\n",
    "        for w in windows\n",
    "        ]\n",
    "    windows = [\n",
    "        {\n",
    "            'date' : w['date'],\n",
    "            'cases' : w['cases'],\n",
    "            'pos': w['pos'],\n",
    "            'deaths' : w['deaths'],\n",
    "            'tests' : w['tests'],\n",
    "            'ctests' : w['ctests'],\n",
    "            'estimate' : 28*w['cases']*math.sqrt(max(w['pos'],0)),\n",
    "            'slice': w['slice']\n",
    "        }\n",
    "        for w in windows\n",
    "                                                 \n",
    "        ]\n",
    "    windows = [\n",
    "        {\n",
    "        'date': w['date'],\n",
    "        'pos': w['pos'],\n",
    "            'cases': w['cases'],\n",
    "            'tests' : w['tests'],\n",
    "            'deaths' : w['deaths'],\n",
    "            'ctests' : w['ctests'],\n",
    "        'estimate': w['estimate'],\n",
    "            'slice': w['slice']\n",
    "        }\n",
    "        for w in windows\n",
    "        ]\n",
    "    return windows\n"
   ]
  },
  {
   "cell_type": "code",
   "execution_count": 85,
   "metadata": {},
   "outputs": [
    {
     "name": "stdout",
     "output_type": "stream",
     "text": [
      "[{'cases': 167,\n",
      "  'ctests': 24680,\n",
      "  'date': '2020-07-06',\n",
      "  'deaths': 179,\n",
      "  'estimate': 0.0,\n",
      "  'pos': 0,\n",
      "  'slice': [{'cases': 3347,\n",
      "             'dataDate': '2020-06-29',\n",
      "             'deaths': 166,\n",
      "             'tests': 27014},\n",
      "            {'cases': 3375,\n",
      "             'dataDate': '2020-06-30',\n",
      "             'deaths': 168,\n",
      "             'tests': 27014},\n",
      "            {'cases': 3395,\n",
      "             'dataDate': '2020-07-01',\n",
      "             'deaths': 170,\n",
      "             'tests': 27014},\n",
      "            {'cases': 3408,\n",
      "             'dataDate': '2020-07-02',\n",
      "             'deaths': 172,\n",
      "             'tests': 27014},\n",
      "            {'cases': 3450,\n",
      "             'dataDate': '2020-07-03',\n",
      "             'deaths': 177,\n",
      "             'tests': 27014},\n",
      "            {'cases': 3483,\n",
      "             'dataDate': '2020-07-04',\n",
      "             'deaths': 179,\n",
      "             'tests': 24285},\n",
      "            {'cases': 3502,\n",
      "             'dataDate': '2020-07-05',\n",
      "             'deaths': 179,\n",
      "             'tests': 24325}],\n",
      "  'tests': 0},\n",
      " {'cases': 150,\n",
      "  'ctests': 24680,\n",
      "  'date': '2020-07-07',\n",
      "  'deaths': 181,\n",
      "  'estimate': 0.0,\n",
      "  'pos': 0,\n",
      "  'slice': [{'cases': 3375,\n",
      "             'dataDate': '2020-06-30',\n",
      "             'deaths': 168,\n",
      "             'tests': 27014},\n",
      "            {'cases': 3395,\n",
      "             'dataDate': '2020-07-01',\n",
      "             'deaths': 170,\n",
      "             'tests': 27014},\n",
      "            {'cases': 3408,\n",
      "             'dataDate': '2020-07-02',\n",
      "             'deaths': 172,\n",
      "             'tests': 27014},\n",
      "            {'cases': 3450,\n",
      "             'dataDate': '2020-07-03',\n",
      "             'deaths': 177,\n",
      "             'tests': 27014},\n",
      "            {'cases': 3483,\n",
      "             'dataDate': '2020-07-04',\n",
      "             'deaths': 179,\n",
      "             'tests': 24285},\n",
      "            {'cases': 3502,\n",
      "             'dataDate': '2020-07-05',\n",
      "             'deaths': 179,\n",
      "             'tests': 24325},\n",
      "            {'cases': 3514,\n",
      "             'dataDate': '2020-07-06',\n",
      "             'deaths': 179,\n",
      "             'tests': 24680}],\n",
      "  'tests': 0},\n",
      " {'cases': 153,\n",
      "  'ctests': 24977,\n",
      "  'date': '2020-07-08',\n",
      "  'deaths': 184,\n",
      "  'estimate': 0.0,\n",
      "  'pos': 0,\n",
      "  'slice': [{'cases': 3395,\n",
      "             'dataDate': '2020-07-01',\n",
      "             'deaths': 170,\n",
      "             'tests': 27014},\n",
      "            {'cases': 3408,\n",
      "             'dataDate': '2020-07-02',\n",
      "             'deaths': 172,\n",
      "             'tests': 27014},\n",
      "            {'cases': 3450,\n",
      "             'dataDate': '2020-07-03',\n",
      "             'deaths': 177,\n",
      "             'tests': 27014},\n",
      "            {'cases': 3483,\n",
      "             'dataDate': '2020-07-04',\n",
      "             'deaths': 179,\n",
      "             'tests': 24285},\n",
      "            {'cases': 3502,\n",
      "             'dataDate': '2020-07-05',\n",
      "             'deaths': 179,\n",
      "             'tests': 24325},\n",
      "            {'cases': 3514,\n",
      "             'dataDate': '2020-07-06',\n",
      "             'deaths': 179,\n",
      "             'tests': 24680},\n",
      "            {'cases': 3525,\n",
      "             'dataDate': '2020-07-07',\n",
      "             'deaths': 181,\n",
      "             'tests': 24680}],\n",
      "  'tests': 0},\n",
      " {'cases': 159,\n",
      "  'ctests': 25210,\n",
      "  'date': '2020-07-09',\n",
      "  'deaths': 186,\n",
      "  'estimate': 0.0,\n",
      "  'pos': 0,\n",
      "  'slice': [{'cases': 3408,\n",
      "             'dataDate': '2020-07-02',\n",
      "             'deaths': 172,\n",
      "             'tests': 27014},\n",
      "            {'cases': 3450,\n",
      "             'dataDate': '2020-07-03',\n",
      "             'deaths': 177,\n",
      "             'tests': 27014},\n",
      "            {'cases': 3483,\n",
      "             'dataDate': '2020-07-04',\n",
      "             'deaths': 179,\n",
      "             'tests': 24285},\n",
      "            {'cases': 3502,\n",
      "             'dataDate': '2020-07-05',\n",
      "             'deaths': 179,\n",
      "             'tests': 24325},\n",
      "            {'cases': 3514,\n",
      "             'dataDate': '2020-07-06',\n",
      "             'deaths': 179,\n",
      "             'tests': 24680},\n",
      "            {'cases': 3525,\n",
      "             'dataDate': '2020-07-07',\n",
      "             'deaths': 181,\n",
      "             'tests': 24680},\n",
      "            {'cases': 3548,\n",
      "             'dataDate': '2020-07-08',\n",
      "             'deaths': 184,\n",
      "             'tests': 24977}],\n",
      "  'tests': 0},\n",
      " {'cases': 150,\n",
      "  'ctests': 25655,\n",
      "  'date': '2020-07-10',\n",
      "  'deaths': 188,\n",
      "  'estimate': 0.0,\n",
      "  'pos': 0,\n",
      "  'slice': [{'cases': 3450,\n",
      "             'dataDate': '2020-07-03',\n",
      "             'deaths': 177,\n",
      "             'tests': 27014},\n",
      "            {'cases': 3483,\n",
      "             'dataDate': '2020-07-04',\n",
      "             'deaths': 179,\n",
      "             'tests': 24285},\n",
      "            {'cases': 3502,\n",
      "             'dataDate': '2020-07-05',\n",
      "             'deaths': 179,\n",
      "             'tests': 24325},\n",
      "            {'cases': 3514,\n",
      "             'dataDate': '2020-07-06',\n",
      "             'deaths': 179,\n",
      "             'tests': 24680},\n",
      "            {'cases': 3525,\n",
      "             'dataDate': '2020-07-07',\n",
      "             'deaths': 181,\n",
      "             'tests': 24680},\n",
      "            {'cases': 3548,\n",
      "             'dataDate': '2020-07-08',\n",
      "             'deaths': 184,\n",
      "             'tests': 24977},\n",
      "            {'cases': 3567,\n",
      "             'dataDate': '2020-07-09',\n",
      "             'deaths': 186,\n",
      "             'tests': 25210}],\n",
      "  'tests': 0}]\n"
     ]
    }
   ],
   "source": [
    "data=collected('../downloads/2020_08_25/mckinley.json')\n",
    "import pprint\n",
    "pprint.pprint([w for w in data if w['pos']==0])"
   ]
  },
  {
   "cell_type": "code",
   "execution_count": 59,
   "metadata": {},
   "outputs": [
    {
     "data": {
      "text/plain": [
       "[<matplotlib.lines.Line2D at 0x7f7638772040>]"
      ]
     },
     "execution_count": 59,
     "metadata": {},
     "output_type": "execute_result"
    },
    {
     "data": {
      "image/png": "[encoded data removed]",
      "text/plain": [
       "<Figure size 432x288 with 1 Axes>"
      ]
     },
     "metadata": {
      "needs_background": "light"
     },
     "output_type": "display_data"
    }
   ],
   "source": [
    "\n",
    "plt.plot([w['pos'] for w in data])"
   ]
  },
  {
   "cell_type": "code",
   "execution_count": 53,
   "metadata": {},
   "outputs": [
    {
     "data": {
      "text/plain": [
       "[<matplotlib.lines.Line2D at 0x7f7638a8da30>]"
      ]
     },
     "execution_count": 53,
     "metadata": {},
     "output_type": "execute_result"
    },
    {
     "data": {
      "image/png": "[encoded data removed]",
      "text/plain": [
       "<Figure size 432x288 with 1 Axes>"
      ]
     },
     "metadata": {
      "needs_background": "light"
     },
     "output_type": "display_data"
    }
   ],
   "source": [
    "plt.plot([w['estimate'] for w in data])"
   ]
  },
  {
   "cell_type": "code",
   "execution_count": 9,
   "metadata": {},
   "outputs": [],
   "source": [
    "total = sum(l['estimate'] for l in data)/10"
   ]
  },
  {
   "cell_type": "code",
   "execution_count": 10,
   "metadata": {},
   "outputs": [
    {
     "name": "stdout",
     "output_type": "stream",
     "text": [
      "5496.7063489950715\n"
     ]
    }
   ],
   "source": [
    "print(total)"
   ]
  },
  {
   "cell_type": "code",
   "execution_count": null,
   "metadata": {},
   "outputs": [],
   "source": []
  },
  {
   "cell_type": "code",
   "execution_count": null,
   "metadata": {},
   "outputs": [],
   "source": []
  },
  {
   "cell_type": "code",
   "execution_count": null,
   "metadata": {},
   "outputs": [],
   "source": []
  }
 ],
 "metadata": {
  "kernelspec": {
   "display_name": "Python 3",
   "language": "python",
   "name": "python3"
  },
  "language_info": {
   "codemirror_mode": {
    "name": "ipython",
    "version": 3
   },
   "file_extension": ".py",
   "mimetype": "text/x-python",
   "name": "python",
   "nbconvert_exporter": "python",
   "pygments_lexer": "ipython3",
   "version": "3.8.2"
  }
 },
 "nbformat": 4,
 "nbformat_minor": 4
}
