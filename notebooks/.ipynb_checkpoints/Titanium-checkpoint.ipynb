{
 "cells": [
  {
   "cell_type": "markdown",
   "metadata": {},
   "source": [
    "# Giving Herd Immunity the \"Titanium Man\" treatment. \n",
    "## What is natural herd immunity? \n",
    "We make the following assumptions: \n",
    "* At a time when nobody is immune and everything is behaving normally, each infected person infects _R_ others before getting well. \n",
    "* If a proportion _I_ of people are immune, the proportion of people _(1-I)_ are suceptible, so that eachinfected person infects only _R (1-I)_ people before getting well. \n",
    "* We have a place where the hospital capacity "
   ]
  },
  {
   "cell_type": "code",
   "execution_count": null,
   "metadata": {},
   "outputs": [],
   "source": []
  }
 ],
 "metadata": {
  "kernelspec": {
   "display_name": "Python 3",
   "language": "python",
   "name": "python3"
  },
  "language_info": {
   "codemirror_mode": {
    "name": "ipython",
    "version": 3
   },
   "file_extension": ".py",
   "mimetype": "text/x-python",
   "name": "python",
   "nbconvert_exporter": "python",
   "pygments_lexer": "ipython3",
   "version": "3.8.2"
  }
 },
 "nbformat": 4,
 "nbformat_minor": 4
}
