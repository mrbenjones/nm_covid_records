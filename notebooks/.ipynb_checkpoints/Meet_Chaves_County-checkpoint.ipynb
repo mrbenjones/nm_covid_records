{
 "cells": [
  {
   "cell_type": "markdown",
   "metadata": {},
   "source": [
    "# Functions for County Data Analysis\n",
    "## collected function\n",
    "Contains the following fields\n",
    "* date : The date of entry. \n",
    "* tests : The average number of tests in the 7 days leading up to the date.\n",
    "* pos : The positive percentage in the 7 days leading up to the date.\n",
    "* deaths: The deaths up to the date given\n",
    "* estimate : The Blake/Ellis estimate for COVID-19 patients on a given day, based on test positivity and reported cases"
   ]
  },
  {
   "cell_type": "code",
   "execution_count": 6,
   "metadata": {},
   "outputs": [],
   "source": [
    "import json\n",
    "import datetime\n",
    "import math\n",
    "import pandas as pd\n",
    "import numpy as np\n",
    "import matplotlib.pyplot as plt\n",
    "\n",
    "\n",
    "def smoothForFields(list, field, consecutive=7):\n",
    "    \"\"\"\n",
    "    Given an array of objects with numerical attributes, leave the first entries alone,\n",
    "    and then average the consecutive entries from the number of consecutive entries requested. \n",
    "    \"\"\"\n",
    "    def averaged(array, idx):\n",
    "        if (idx < consecutive):\n",
    "            return array[idx]\n",
    "        else:\n",
    "            return sum(array[idx-consecutive:idx])/consecutive\n",
    "        \n",
    "    newArray = [l[field] for l in list]\n",
    "    return [averaged(newArray, idx) for (idx, e) in enumerate(newArray)] \n",
    "\n",
    "def collected(jsonFile,starting = 0):\n",
    "    \"\"\"\n",
    "    Average, collect, and sort the fields in the provided entry. In the result. \n",
    "    * data is the \n",
    "    \"\"\"\n",
    "    entries = json.load(open(jsonFile))[\"data\"]\n",
    "    r = [ {\n",
    "        \"dataDate\": t['date'],\n",
    "        \"cases\": t['cases'],\n",
    "        \"deaths\": t['deaths'],\n",
    "        \"tests\": t['tests']\n",
    "        } for t in entries[starting:]]\n",
    "    r.sort( key=lambda x:x['dataDate'])\n",
    "    \n",
    "    newCases = smoothForFields(entries, 'cases', 10) \n",
    "    newTests = smoothForFields(entries, 'tests', 10)\n",
    "    windows = [\n",
    "        {'date': r[i]['dataDate'],\n",
    "         'cases': max(newCases[i]-newCases[i-7],0),\n",
    "         'tests': max(newTests[i]-newTests[i-7],0),\n",
    "         'deaths': r[i]['deaths']\n",
    "         }\n",
    "        for i in range(7,len(r))\n",
    "        ]\n",
    "\n",
    "    windows = [{\n",
    "        'date' : w['date'],\n",
    "        'cases' : w['cases'],\n",
    "        'tests' : w['tests'],\n",
    "        'deaths' : w['deaths'],\n",
    "        'pos' : w['cases']/w['tests'] if (w['tests']) else 0\n",
    "        }\n",
    "        for w in windows\n",
    "        ]\n",
    "    windows = [\n",
    "        {\n",
    "            'date' : w['date'],\n",
    "            'pos': w['pos'],\n",
    "            'deaths' : w['deaths'],\n",
    "            'estimate' : 28*w['cases']*math.sqrt(max(w['pos'],0.0))     \n",
    "        }\n",
    "        for w in windows\n",
    "        ]\n",
    "    windows = [\n",
    "        {\n",
    "        'date': w['date'],\n",
    "        'pos': w['pos'],\n",
    "            'deaths' : w['deaths'],\n",
    "        'estimate': w['estimate']\n",
    "        }\n",
    "        for w in windows\n",
    "        ]\n",
    "    return windows\n"
   ]
  },
  {
   "cell_type": "code",
   "execution_count": 7,
   "metadata": {},
   "outputs": [],
   "source": [
    "data=collected('../downloads/2020_10_03/chaves.json',0)"
   ]
  },
  {
   "cell_type": "markdown",
   "metadata": {},
   "source": [
    "## Plot of test positivity\n",
    "Chaves County had a sudden spike in positive test rate, settling down to around 7% over the month of August and the first week of September"
   ]
  },
  {
   "cell_type": "code",
   "execution_count": 8,
   "metadata": {},
   "outputs": [
    {
     "data": {
      "text/plain": [
       "[<matplotlib.axis.XTick at 0x7effa3f47340>,\n",
       " <matplotlib.axis.XTick at 0x7effa3f47190>,\n",
       " <matplotlib.axis.XTick at 0x7effa3f57400>,\n",
       " <matplotlib.axis.XTick at 0x7effa3f0d4f0>,\n",
       " <matplotlib.axis.XTick at 0x7effa3f0da00>]"
      ]
     },
     "execution_count": 8,
     "metadata": {},
     "output_type": "execute_result"
    },
    {
     "data": {
      "image/png": "[encoded data removed]",
      "text/plain": [
       "<Figure size 432x288 with 1 Axes>"
      ]
     },
     "metadata": {
      "needs_background": "light"
     },
     "output_type": "display_data"
    }
   ],
   "source": [
    "\n",
    "xvalues = [w['date'] for w in data]\n",
    "yvalues = [w['pos'] for w in data]\n",
    "\n",
    "figure = plt.figure()\n",
    "ax = figure.add_axes([0.1,0.1,0.8,0.8])\n",
    "ax.plot(xvalues, yvalues)\n",
    "tickN = len(data)//23\n",
    "ax.set_xticks([data[23*i]['date'] for i in range(0,tickN)])\n"
   ]
  },
  {
   "cell_type": "markdown",
   "metadata": {},
   "source": [
    "## Blake and Ellis estimate\n",
    "Blake and Ellis give the estimate:\n",
    "```\n",
    "actual = 28 * (confirmed 7-day cases) * sqrt(7-day positive fraction)\n",
    "```\n",
    "for the number of actual cases, given reported cases and positive test percentage, based on an assumption of \n",
    "10 day courses of the disease. \n",
    "\n",
    "https://covid19-projections.com/estimating-true-infections/\n",
    "\n",
    "This estimate gives around 700 active cases (1% of the population) in Chavez county today.  \n",
    "\n",
    "This would provide a 40% that a room of 50 people selected at random would have one person with COVID-19"
   ]
  },
  {
   "cell_type": "code",
   "execution_count": 12,
   "metadata": {},
   "outputs": [],
   "source": [
    "population=69700"
   ]
  },
  {
   "cell_type": "code",
   "execution_count": 13,
   "metadata": {},
   "outputs": [
    {
     "name": "stdout",
     "output_type": "stream",
     "text": [
      "53.94908810305898 Chance in a room of 50 people.\n"
     ]
    },
    {
     "data": {
      "text/plain": [
       "[<matplotlib.axis.XTick at 0x7effa3e40dc0>,\n",
       " <matplotlib.axis.XTick at 0x7effa3e40d90>,\n",
       " <matplotlib.axis.XTick at 0x7effa3e401c0>,\n",
       " <matplotlib.axis.XTick at 0x7effa3de29d0>]"
      ]
     },
     "execution_count": 13,
     "metadata": {},
     "output_type": "execute_result"
    },
    {
     "data": {
      "image/png": "[encoded data removed]",
      "text/plain": [
       "<Figure size 432x288 with 1 Axes>"
      ]
     },
     "metadata": {
      "needs_background": "light"
     },
     "output_type": "display_data"
    }
   ],
   "source": [
    "fiftyRoomOdds = 1-(1-data[-1]['estimate']/population)**50\n",
    "print(f\"{fiftyRoomOdds*100} Chance in a room of 50 people.\")\n",
    "evalues = [w['estimate'] for w in data]\n",
    "figure2 = plt.figure()\n",
    "ax = figure2.add_axes([0.1,0.1,0.8,0.8])\n",
    "ax.plot(xvalues, evalues)\n",
    "tickN = len(data)//35\n",
    "ax.set_xticks([data[35*i]['date'] for i in range(0,tickN+1)])\n"
   ]
  },
  {
   "cell_type": "code",
   "execution_count": 15,
   "metadata": {},
   "outputs": [
    {
     "name": "stdout",
     "output_type": "stream",
     "text": [
      "To date there have been 297.7060005807307 cases per death as of 21 days ago\n"
     ]
    }
   ],
   "source": [
    "total = sum(l['estimate'] for l in data[:-21])/10\n",
    "estimatedCasesPerDeath = total/data[-1]['deaths']\n",
    "print(f\"To date there have been {estimatedCasesPerDeath} cases per death as of 21 days ago\" )"
   ]
  },
  {
   "cell_type": "code",
   "execution_count": 16,
   "metadata": {},
   "outputs": [
    {
     "name": "stdout",
     "output_type": "stream",
     "text": [
      "3572.4720069687683 0.051254978579178885\n"
     ]
    }
   ],
   "source": [
    "print(total, total/population)"
   ]
  },
  {
   "cell_type": "code",
   "execution_count": null,
   "metadata": {},
   "outputs": [],
   "source": []
  },
  {
   "cell_type": "code",
   "execution_count": null,
   "metadata": {},
   "outputs": [],
   "source": []
  },
  {
   "cell_type": "code",
   "execution_count": null,
   "metadata": {},
   "outputs": [],
   "source": []
  }
 ],
 "metadata": {
  "kernelspec": {
   "display_name": "Python 3",
   "language": "python",
   "name": "python3"
  },
  "language_info": {
   "codemirror_mode": {
    "name": "ipython",
    "version": 3
   },
   "file_extension": ".py",
   "mimetype": "text/x-python",
   "name": "python",
   "nbconvert_exporter": "python",
   "pygments_lexer": "ipython3",
   "version": "3.8.2"
  }
 },
 "nbformat": 4,
 "nbformat_minor": 4
}
